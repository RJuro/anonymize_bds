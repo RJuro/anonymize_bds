{
 "cells": [
  {
   "cell_type": "code",
   "execution_count": 1,
   "metadata": {},
   "outputs": [],
   "source": [
    "import spacy"
   ]
  },
  {
   "cell_type": "code",
   "execution_count": 7,
   "metadata": {},
   "outputs": [],
   "source": [
    "from copy import deepcopy"
   ]
  },
  {
   "cell_type": "code",
   "execution_count": 2,
   "metadata": {},
   "outputs": [],
   "source": [
    "# load spacy model\n",
    "nlp = spacy.load('en_core_web_sm')"
   ]
  },
  {
   "cell_type": "code",
   "execution_count": 11,
   "metadata": {},
   "outputs": [],
   "source": [
    "# save spacy model\n",
    "nlp.to_disk('models/en')"
   ]
  },
  {
   "cell_type": "code",
   "execution_count": 5,
   "metadata": {},
   "outputs": [],
   "source": [
    "text = 'Christian Møller is studying Data Science at Aalborg University'"
   ]
  },
  {
   "cell_type": "code",
   "execution_count": 3,
   "metadata": {},
   "outputs": [],
   "source": [
    "doc = nlp('Christian Møller is studying Data Science at Aalborg University')"
   ]
  },
  {
   "cell_type": "code",
   "execution_count": 4,
   "metadata": {},
   "outputs": [
    {
     "name": "stdout",
     "output_type": "stream",
     "text": [
      "Christian Møller 0 16 ORG\n",
      "Data Science at 29 44 ORG\n",
      "Aalborg University 45 63 ORG\n"
     ]
    }
   ],
   "source": [
    "# show entities\n",
    "for ent in doc.ents:\n",
    "    print(ent.text, ent.start_char, ent.end_char, ent.label_)"
   ]
  },
  {
   "cell_type": "code",
   "execution_count": null,
   "metadata": {},
   "outputs": [],
   "source": [
    "list(text)"
   ]
  },
  {
   "cell_type": "code",
   "execution_count": 8,
   "metadata": {},
   "outputs": [],
   "source": [
    "def anonymize_text(text: str, model):\n",
    "    doc = nlp(text)\n",
    "\n",
    "    entities = [\n",
    "        {\n",
    "            \"start\": ent.start_char,\n",
    "            \"end\": ent.end_char,\n",
    "            \"type\": ent.label_,\n",
    "            \"text\": ent.text,\n",
    "        }\n",
    "        for ent in doc.ents\n",
    "    ]\n",
    "\n",
    "    anonymized_text = list(deepcopy(text))\n",
    "\n",
    "    for entity in entities:\n",
    "        start = entity[\"start\"]\n",
    "        end = entity[\"end\"]\n",
    "        anonymized_text[start:end] = \"X\" * (end - start)\n",
    "\n",
    "    anonymized_text = \"\".join(anonymized_text)\n",
    "    return {\"entities\": entities, \"anonymized_text\": anonymized_text}"
   ]
  },
  {
   "cell_type": "code",
   "execution_count": 9,
   "metadata": {},
   "outputs": [
    {
     "data": {
      "text/plain": [
       "{'entities': [{'start': 0,\n",
       "   'end': 16,\n",
       "   'type': 'ORG',\n",
       "   'text': 'Christian Møller'},\n",
       "  {'start': 29, 'end': 44, 'type': 'ORG', 'text': 'Data Science at'},\n",
       "  {'start': 45, 'end': 63, 'type': 'ORG', 'text': 'Aalborg University'}],\n",
       " 'anonymized_text': 'XXXXXXXXXXXXXXXX is studying XXXXXXXXXXXXXXX XXXXXXXXXXXXXXXXXX'}"
      ]
     },
     "execution_count": 9,
     "metadata": {},
     "output_type": "execute_result"
    }
   ],
   "source": [
    "anonymize_text(text, nlp)"
   ]
  },
  {
   "cell_type": "code",
   "execution_count": null,
   "metadata": {},
   "outputs": [],
   "source": []
  }
 ],
 "metadata": {
  "kernelspec": {
   "display_name": "base",
   "language": "python",
   "name": "python3"
  },
  "language_info": {
   "codemirror_mode": {
    "name": "ipython",
    "version": 3
   },
   "file_extension": ".py",
   "mimetype": "text/x-python",
   "name": "python",
   "nbconvert_exporter": "python",
   "pygments_lexer": "ipython3",
   "version": "3.9.12"
  },
  "orig_nbformat": 4
 },
 "nbformat": 4,
 "nbformat_minor": 2
}
